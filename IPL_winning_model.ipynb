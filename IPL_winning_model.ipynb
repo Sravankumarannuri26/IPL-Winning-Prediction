{
  "nbformat": 4,
  "nbformat_minor": 0,
  "metadata": {
    "colab": {
      "provenance": []
    },
    "kernelspec": {
      "name": "python3",
      "display_name": "Python 3"
    },
    "language_info": {
      "name": "python"
    }
  },
  "cells": [
    {
      "cell_type": "code",
      "execution_count": 4,
      "metadata": {
        "colab": {
          "base_uri": "https://localhost:8080/"
        },
        "id": "NW0JXXf_zaxf",
        "outputId": "9008bc4c-2f3a-4cf3-a326-5016aad5705e"
      },
      "outputs": [
        {
          "output_type": "execute_result",
          "data": {
            "text/plain": [
              "['pipe.pkl']"
            ]
          },
          "metadata": {},
          "execution_count": 4
        }
      ],
      "source": [
        "import pandas as pd\n",
        "import numpy as np\n",
        "from sklearn.compose import ColumnTransformer\n",
        "from sklearn.preprocessing import OneHotEncoder\n",
        "from sklearn.model_selection import train_test_split\n",
        "from sklearn.pipeline import Pipeline\n",
        "from sklearn.ensemble import RandomForestClassifier\n",
        "import joblib\n",
        "\n",
        "\n",
        "\n",
        "# Load datasets\n",
        "matches = pd.read_csv('/content/matches.csv')\n",
        "balls = pd.read_csv('/content/ball.csv')\n",
        "\n",
        "# Preprocess data\n",
        "inningScores = balls.groupby(['ID', 'innings']).sum()['total_run'].reset_index()\n",
        "inningScores = inningScores[inningScores['innings'] == 1]\n",
        "inningScores['target'] = inningScores['total_run'] + 1\n",
        "matches = matches.merge(inningScores[['ID', 'target']], on='ID')\n",
        "\n",
        "# Standardize team names\n",
        "team_name_changes = {\n",
        "    'Delhi Daredevils': 'Delhi Capitals',\n",
        "    'Kings XI Punjab': 'Punjab Kings',\n",
        "    'Deccan Chargers': 'Sunrisers Hyderabad',\n",
        "    'Rising Pune Supergiant': 'Pune Warriors',\n",
        "    'Rising Pune Supergiants': 'Pune Warriors',\n",
        "    'Pune Warriorss': 'Pune Warriors',\n",
        "    'Gujarat Lions': 'Gujarat Titans'\n",
        "}\n",
        "\n",
        "for old_name, new_name in team_name_changes.items():\n",
        "    matches['Team1'] = matches['Team1'].str.replace(old_name, new_name)\n",
        "    matches['Team2'] = matches['Team2'].str.replace(old_name, new_name)\n",
        "    matches['WinningTeam'] = matches['WinningTeam'].str.replace(old_name, new_name)\n",
        "    balls['BattingTeam'] = balls['BattingTeam'].str.replace(old_name, new_name)\n",
        "\n",
        "teams2023 = [\n",
        "    'Rajasthan Royals', 'Royal Challengers Bangalore', 'Sunrisers Hyderabad',\n",
        "    'Delhi Capitals', 'Chennai Super Kings', 'Gujarat Titans',\n",
        "    'Lucknow Super Giants', 'Kolkata Knight Riders', 'Punjab Kings',\n",
        "    'Mumbai Indians'\n",
        "]\n",
        "\n",
        "matches = matches[matches['Team1'].isin(teams2023)]\n",
        "matches = matches[matches['Team2'].isin(teams2023)]\n",
        "matches = matches[matches['WinningTeam'].isin(teams2023)]\n",
        "matches = matches[['ID', 'City', 'Team1', 'Team2', 'WinningTeam', 'target']].dropna()\n",
        "\n",
        "balls = balls[balls['BattingTeam'].isin(teams2023)]\n",
        "\n",
        "# Merge datasets\n",
        "final = matches.merge(balls, on='ID')\n",
        "final = final[final['innings'] == 2]\n",
        "final['current_score'] = final.groupby('ID')['total_run'].cumsum()\n",
        "final['runs_left'] = np.where(final['target'] - final['current_score'] >= 0, final['target'] - final['current_score'], 0)\n",
        "final['balls_left'] = np.where(120 - final['overs'] * 6 - final['ballnumber'] >= 0, 120 - final['overs'] * 6 - final['ballnumber'], 0)\n",
        "final['wickets_left'] = 10 - final.groupby('ID')['isWicketDelivery'].cumsum()\n",
        "final['current_run_rate'] = (final['current_score'] * 6) / (120 - final['balls_left'])\n",
        "final['required_run_rate'] = np.where(final['balls_left'] > 0, final['runs_left'] * 6 / final['balls_left'], 0)\n",
        "\n",
        "def result(row):\n",
        "    return 1 if row['BattingTeam'] == row['WinningTeam'] else 0\n",
        "\n",
        "final['result'] = final.apply(result, axis=1)\n",
        "\n",
        "index1 = final[final['Team2'] == final['BattingTeam']]['Team1'].index\n",
        "index2 = final[final['Team1'] == final['BattingTeam']]['Team2'].index\n",
        "final.loc[index1, 'BowlingTeam'] = final.loc[index1, 'Team1']\n",
        "final.loc[index2, 'BowlingTeam'] = final.loc[index2, 'Team2']\n",
        "\n",
        "winningPred = final[['BattingTeam', 'BowlingTeam', 'City', 'runs_left', 'balls_left', 'wickets_left', 'current_run_rate', 'required_run_rate', 'target', 'result']]\n",
        "\n",
        "# Prepare data for training\n",
        "X = winningPred.drop('result', axis=1)\n",
        "y = winningPred['result']\n",
        "\n",
        "X_train, X_test, y_train, y_test = train_test_split(X, y, test_size=0.2, random_state=1)\n",
        "\n",
        "trf = ColumnTransformer([\n",
        "    ('trf', OneHotEncoder(sparse_output=False, drop='first'), ['BattingTeam', 'BowlingTeam', 'City'])\n",
        "], remainder='passthrough')\n",
        "\n",
        "pipe = Pipeline(steps=[\n",
        "    ('step1', trf),\n",
        "    ('step2', RandomForestClassifier())\n",
        "])\n",
        "\n",
        "pipe.fit(X_train, y_train)\n",
        "\n",
        "# Save the model\n",
        "joblib.dump(pipe, 'pipe.pkl')\n"
      ]
    },
    {
      "cell_type": "code",
      "source": [],
      "metadata": {
        "id": "J4wHvXEw1zU4"
      },
      "execution_count": null,
      "outputs": []
    },
    {
      "cell_type": "code",
      "source": [],
      "metadata": {
        "id": "VM_QCgN-1udB"
      },
      "execution_count": null,
      "outputs": []
    }
  ]
}